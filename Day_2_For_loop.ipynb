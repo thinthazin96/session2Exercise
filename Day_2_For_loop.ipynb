{
  "nbformat": 4,
  "nbformat_minor": 0,
  "metadata": {
    "colab": {
      "name": "Day 2 For loop.ipynb",
      "provenance": [],
      "authorship_tag": "ABX9TyO/4Fm+lC5ElWh7lFky5i1b",
      "include_colab_link": true
    },
    "kernelspec": {
      "name": "python3",
      "display_name": "Python 3"
    },
    "language_info": {
      "name": "python"
    }
  },
  "cells": [
    {
      "cell_type": "markdown",
      "metadata": {
        "id": "view-in-github",
        "colab_type": "text"
      },
      "source": [
        "<a href=\"https://colab.research.google.com/github/thinthazin96/session2Exercise/blob/main/Day_2_For_loop.ipynb\" target=\"_parent\"><img src=\"https://colab.research.google.com/assets/colab-badge.svg\" alt=\"Open In Colab\"/></a>"
      ]
    },
    {
      "cell_type": "markdown",
      "source": [
        "#For Loops"
      ],
      "metadata": {
        "id": "XhmqrLWfQrt9"
      }
    },
    {
      "cell_type": "markdown",
      "source": [
        "for loop is iterator in Python! can iterate anything list,tuple, dictionary or evern string!\n"
      ],
      "metadata": {
        "id": "LjvP831BRLTm"
      }
    },
    {
      "cell_type": "code",
      "source": [
        "l = [1,2,3,4,5,6,7,8,9,10]"
      ],
      "metadata": {
        "id": "3oMtjs4GRGfm"
      },
      "execution_count": 36,
      "outputs": []
    },
    {
      "cell_type": "code",
      "source": [
        "#iterate the list\n",
        "for i in l:\n",
        "  print(i)"
      ],
      "metadata": {
        "colab": {
          "base_uri": "https://localhost:8080/"
        },
        "id": "9SjWPuoNRZkG",
        "outputId": "ea560833-b896-4a44-d753-a302bea75dcc"
      },
      "execution_count": 15,
      "outputs": [
        {
          "output_type": "stream",
          "name": "stdout",
          "text": [
            "1\n",
            "2\n",
            "3\n",
            "4\n",
            "5\n",
            "6\n",
            "7\n",
            "8\n",
            "9\n",
            "10\n"
          ]
        }
      ]
    },
    {
      "cell_type": "code",
      "source": [
        "#Loop each item in list\n",
        "for num in l:\n",
        "\n",
        "#conditional statement if a number is even\n",
        "    if num % 2 == 0:\n",
        "\n",
        "#Print the iterator after the conditional statement is executed.\n",
        "      print(\"Even number \\n\" + str(num))"
      ],
      "metadata": {
        "colab": {
          "base_uri": "https://localhost:8080/"
        },
        "id": "G08hBZ9aRcZR",
        "outputId": "0aca18a6-6cba-47c3-a837-5d31d01937ce"
      },
      "execution_count": 16,
      "outputs": [
        {
          "output_type": "stream",
          "name": "stdout",
          "text": [
            "Even number \n",
            "2\n",
            "Even number \n",
            "4\n",
            "Even number \n",
            "6\n",
            "Even number \n",
            "8\n",
            "Even number \n",
            "10\n"
          ]
        }
      ]
    },
    {
      "cell_type": "code",
      "source": [
        "#Loop each item in list\n",
        "for num in l:\n",
        "\n",
        "#conditional statement if a number is odd\n",
        "    if num % 2 != 0:\n",
        "\n",
        "#Print the iterator after the conditional statement is executed.\n",
        "      print(\"Odd number \\n\" + str(num))"
      ],
      "metadata": {
        "colab": {
          "base_uri": "https://localhost:8080/"
        },
        "id": "XsmQowV6Tk-p",
        "outputId": "5c6066a1-ec70-4816-a029-2c3833a8c736"
      },
      "execution_count": 18,
      "outputs": [
        {
          "output_type": "stream",
          "name": "stdout",
          "text": [
            "Odd number \n",
            "1\n",
            "Odd number \n",
            "3\n",
            "Odd number \n",
            "5\n",
            "Odd number \n",
            "7\n",
            "Odd number \n",
            "9\n"
          ]
        }
      ]
    },
    {
      "cell_type": "code",
      "source": [
        "list_sum = 0\n",
        "\n",
        "for num in l:\n",
        "\n",
        "  #List_sum wil increment as the num goes through in l\n",
        "  list_sum = list_sum + num \n",
        "\n",
        "  # print(list_sum)\n",
        "\n",
        "#this will print out the total value of the list l.\n",
        "print(list_sum)"
      ],
      "metadata": {
        "colab": {
          "base_uri": "https://localhost:8080/"
        },
        "id": "Flv3Pqt_T3Za",
        "outputId": "ace69c18-c67e-4d81-db2a-7b5892088895"
      },
      "execution_count": 38,
      "outputs": [
        {
          "output_type": "stream",
          "name": "stdout",
          "text": [
            "55\n"
          ]
        }
      ]
    },
    {
      "cell_type": "code",
      "source": [
        "l = [(2,4),(6,8),(10,12)]\n",
        "for tup in l:\n",
        "  print(tup)"
      ],
      "metadata": {
        "colab": {
          "base_uri": "https://localhost:8080/"
        },
        "id": "AJvobi5dWGVt",
        "outputId": "feeb45f5-40c5-4dc6-c48f-c9aa5a48e4b1"
      },
      "execution_count": 39,
      "outputs": [
        {
          "output_type": "stream",
          "name": "stdout",
          "text": [
            "(2, 4)\n",
            "(6, 8)\n",
            "(10, 12)\n"
          ]
        }
      ]
    },
    {
      "cell_type": "code",
      "source": [
        "for (t1,t2) in l:\n",
        "  print(t2)"
      ],
      "metadata": {
        "colab": {
          "base_uri": "https://localhost:8080/"
        },
        "id": "o-kSoTHeWWgp",
        "outputId": "ae297ae8-0fe6-4fa9-e9ca-4d4fe5acba9d"
      },
      "execution_count": 40,
      "outputs": [
        {
          "output_type": "stream",
          "name": "stdout",
          "text": [
            "4\n",
            "8\n",
            "12\n"
          ]
        }
      ]
    },
    {
      "cell_type": "code",
      "source": [
        "d = {'k1': 1, 'k2': 2, 'k3': 3}\n",
        "d"
      ],
      "metadata": {
        "colab": {
          "base_uri": "https://localhost:8080/"
        },
        "id": "xn17MvElWfZh",
        "outputId": "996c7b57-3da1-4772-d217-c9d332571eeb"
      },
      "execution_count": 27,
      "outputs": [
        {
          "output_type": "execute_result",
          "data": {
            "text/plain": [
              "{'k1': 1, 'k2': 2, 'k3': 3}"
            ]
          },
          "metadata": {},
          "execution_count": 27
        }
      ]
    },
    {
      "cell_type": "code",
      "source": [
        "for item in d:\n",
        "\n",
        "  #by default for loop return only Key. \n",
        "  print(item)"
      ],
      "metadata": {
        "colab": {
          "base_uri": "https://localhost:8080/"
        },
        "id": "7yQdVZKhWuSn",
        "outputId": "965e3361-fa8b-4b92-d802-b255af5a29db"
      },
      "execution_count": 43,
      "outputs": [
        {
          "output_type": "stream",
          "name": "stdout",
          "text": [
            "k1\n",
            "k2\n",
            "k3\n"
          ]
        }
      ]
    },
    {
      "cell_type": "code",
      "source": [
        "#must written k,v to print in pair or seperately.\n",
        "for k, v in d.items():\n",
        "\n",
        "  #print both key and value \n",
        "  print(k,v)\n",
        "\n",
        "  #print only key\n",
        "  print(k)\n",
        "\n",
        "  #print only value\n",
        "  print(v)"
      ],
      "metadata": {
        "colab": {
          "base_uri": "https://localhost:8080/"
        },
        "id": "9Eav1xINWwpu",
        "outputId": "3200e1eb-cbe6-45a9-adf0-c71aa8088881"
      },
      "execution_count": 44,
      "outputs": [
        {
          "output_type": "stream",
          "name": "stdout",
          "text": [
            "k1 1\n",
            "k1\n",
            "1\n",
            "k2 2\n",
            "k2\n",
            "2\n",
            "k3 3\n",
            "k3\n",
            "3\n"
          ]
        }
      ]
    },
    {
      "cell_type": "code",
      "source": [
        ""
      ],
      "metadata": {
        "id": "VE_pIJgNW21n"
      },
      "execution_count": null,
      "outputs": []
    }
  ]
}